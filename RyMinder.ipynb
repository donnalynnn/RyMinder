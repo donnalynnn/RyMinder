{
 "cells": [
  {
   "cell_type": "code",
   "execution_count": null,
   "id": "6b324266-6527-42ae-ac55-c40d577b1411",
   "metadata": {},
   "outputs": [],
   "source": [
    "pip install opencv-python-headless SpeechRecognition gTTS textblob spacy chatterbot\n"
   ]
  },
  {
   "cell_type": "code",
   "execution_count": null,
   "id": "216157e8-f7c1-40cb-9639-1945448a128e",
   "metadata": {},
   "outputs": [],
   "source": [
    "{\n",
    " \"members\": [\n",
    "    {\n",
    "      \"name\": \"John Doe\",\n",
    "      \"photo\": \"path/to/john_doe.jpg\",\n",
    "      \"about\": \"John is the father and works as a software engineer.\"\n",
    "    },\n",
    "    {\n",
    "      \"name\": \"Jane Doe\",\n",
    "      \"photo\": \"path/to/jane_doe.jpg\",\n",
    "      \"about\": \"Jane is the mother and works part-time as a teacher.\"\n",
    "    }\n",
    " ]\n",
    "}\n",
    "\n"
   ]
  },
  {
   "cell_type": "code",
   "execution_count": null,
   "id": "eaf7c74e-ba0e-4579-a921-ca00101aa77d",
   "metadata": {},
   "outputs": [],
   "source": [
    "from gtts import gTTS\n",
    "import os\n",
    "\n",
    "# Convert text to speech\n",
    "tts = gTTS(text='Hello, how can I help you?', lang='en')\n",
    "tts.save(\"hello.mp3\")\n",
    "\n",
    "# Play the audio file\n",
    "os.system(\"mpg321 hello.mp3\")"
   ]
  },
  {
   "cell_type": "code",
   "execution_count": null,
   "id": "7aca6bc1-e939-45a7-a5ba-30f4b08673b0",
   "metadata": {},
   "outputs": [],
   "source": []
  }
 ],
 "metadata": {
  "kernelspec": {
   "display_name": "Python 3 (ipykernel)",
   "language": "python",
   "name": "python3"
  },
  "language_info": {
   "codemirror_mode": {
    "name": "ipython",
    "version": 3
   },
   "file_extension": ".py",
   "mimetype": "text/x-python",
   "name": "python",
   "nbconvert_exporter": "python",
   "pygments_lexer": "ipython3",
   "version": "3.10.7"
  }
 },
 "nbformat": 4,
 "nbformat_minor": 5
}
